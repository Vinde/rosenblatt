{
 "cells": [
  {
   "cell_type": "code",
   "execution_count": 1,
   "metadata": {
    "collapsed": true
   },
   "outputs": [],
   "source": [
    "import numpy as np\n",
    "import matplotlib.pyplot as plt\n",
    "%matplotlib inline"
   ]
  },
  {
   "cell_type": "code",
   "execution_count": 68,
   "metadata": {
    "collapsed": true
   },
   "outputs": [],
   "source": [
    "class rosenblatt(object):\n",
    "    def __init__ (self, n_inputs=2, n_outputs=1):\n",
    "        self.n_inputs = n_inputs\n",
    "        self.n_outputs = n_outputs\n",
    "        self.w_matrix = np.ones((self.n_inputs+1, self.n_outputs))\n",
    "        \n",
    "    def push(self, X, Sum=False):\n",
    "        X = np.matrix(X)\n",
    "        assert X.shape[1] == self.n_inputs\n",
    "        X = np.c_[X,np.ones((X.shape[0],1))]\n",
    "        if Sum:\n",
    "            return rosenblatt.f(X.dot(self.w_matrix).sum(axis=1))\n",
    "        else:\n",
    "            return rosenblatt.f(X.dot(self.w_matrix))\n",
    "    \n",
    "    def update(self, X, y, a = 0.1, i=10, verbose=False):\n",
    "        X,y = np.matrix(X), np.matrix(y)\n",
    "        assert X.shape[0] == y.shape[0]\n",
    "        if verbose:\n",
    "            print self.w_matrix \n",
    "        for n in range(i):\n",
    "            r = np.random.randint(X.shape[0])\n",
    "            o = self.push(X[r])\n",
    "            change = a*np.c_[X[r],1].T*(y[r] - o)\n",
    "            self.w_matrix += change\n",
    "        if verbose:\n",
    "            print '->\\n',self.w_matrix\n",
    "\n",
    "        \n",
    "        \n",
    "    @staticmethod\n",
    "    def f(net):\n",
    "        return (net>=0) * 2.0 - 1\n",
    "    \n",
    "    def lineeq(self, verbose=False):\n",
    "        k = np.zeros(self.n_outputs)\n",
    "        b = np.zeros(self.n_outputs)\n",
    "        for i in range(self.n_outputs):\n",
    "            k[i] = self.w_matrix[0,i]/-self.w_matrix[1,i]\n",
    "            b[i] = self.w_matrix[2,i]/-self.w_matrix[1,i]\n",
    "            if verbose:\n",
    "                print 'y = {:4.2f}x {:+4.2f}'.format(k[i],b[i])\n",
    "        return k, b\n",
    "        \n",
    "    def vis(self, X, y):\n",
    "        numc = 2**self.n_outputs\n",
    "        xs = np.linspace(-10,10,200)                 \n",
    "        fig, ax = plt.subplots(1, figsize=(4,4))\n",
    "        ax.scatter(X[:,0], X[:,1], c = arr2bin(y), cmap='Accent', s=100)\n",
    "        plt.xlim(-5,5)\n",
    "        plt.ylim(-5,5)\n",
    "        k, b = self.lineeq()\n",
    "        for i in range(self.n_outputs):\n",
    "            ax.plot(xs, k[i]*xs+b[i] )\n",
    "            \n",
    "def error(X, w_matrix):\n",
    "    X = np.matrix(X)\n",
    "    net = X.dot(w_matrix)\n",
    "    o = f(net)\n",
    "    err = o - Y\n",
    "    return err\n",
    "\n",
    "def arr2bin(Ys):\n",
    "    Ys = (Ys + 1)/2\n",
    "    ttl = []\n",
    "    for y in Ys:\n",
    "        out = 0\n",
    "        pos = 1\n",
    "        for i in np.ravel(y)[::-1]:\n",
    "            out += i*pos\n",
    "            pos *= 2\n",
    "        ttl.append(out)\n",
    "    return ttl\n",
    "\n",
    "xs = np.linspace(-10,10,200)"
   ]
  },
  {
   "cell_type": "code",
   "execution_count": 64,
   "metadata": {
    "collapsed": false
   },
   "outputs": [],
   "source": [
    "X = np.matrix(((-0.6, -4.7, 2.1, -1.7, -1.8, 0.4, 0.5, -2.6) ,(4, 0.3, -3.3, -3.2, -1, -4.6, -2.3, -2.6))).T\n",
    "Y = (np.matrix(((1, 1, 0, 0, 0, 0, 0, 0),(1, 1, 0, 0, 1, 0, 0, 0))).T-0.5)*2\n",
    "\n",
    "# X = np.matrix(((-3.8, -0.2), (0.4, 3.9))).T\n",
    "# y = np.matrix((1, -1)).T"
   ]
  },
  {
   "cell_type": "code",
   "execution_count": 69,
   "metadata": {
    "collapsed": false,
    "scrolled": false
   },
   "outputs": [
    {
     "data": {
      "image/png": "[encoded data removed]",
      "text/plain": [
       "<matplotlib.figure.Figure at 0x95c4048>"
      ]
     },
     "metadata": {},
     "output_type": "display_data"
    }
   ],
   "source": [
    "a = rosenblatt(n_outputs=2)\n",
    "a.update(X,Y,a=0.3, i=100)\n",
    "a.vis(X,Y)"
   ]
  },
  {
   "cell_type": "code",
   "execution_count": 70,
   "metadata": {
    "collapsed": false,
    "scrolled": false
   },
   "outputs": [],
   "source": [
    "# import time\n",
    "# from IPython import display\n",
    "\n",
    "# a = rosenblatt()\n",
    "# for i in range(15):\n",
    "#     a.update(X2, y2[:,0], a = 0.005, i = 10)\n",
    "#     a.vis(X2, y2[:,0])\n",
    "#     display.clear_output(wait=True)\n",
    "#     display.display(plt.gcf())\n",
    "#     time.sleep(0.01)\n",
    "# a.update(X2, y2[:,0], a = 0.3, i = 1)\n",
    "# a.vis(X2, y2[:,0])"
   ]
  }
 ],
 "metadata": {
  "kernelspec": {
   "display_name": "Python 2",
   "language": "python",
   "name": "python2"
  },
  "language_info": {
   "codemirror_mode": {
    "name": "ipython",
    "version": 2
   },
   "file_extension": ".py",
   "mimetype": "text/x-python",
   "name": "python",
   "nbconvert_exporter": "python",
   "pygments_lexer": "ipython2",
   "version": "2.7.11"
  }
 },
 "nbformat": 4,
 "nbformat_minor": 0
}
